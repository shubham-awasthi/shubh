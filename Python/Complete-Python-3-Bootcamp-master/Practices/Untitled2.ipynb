{
 "cells": [
  {
   "cell_type": "code",
   "execution_count": 1,
   "metadata": {},
   "outputs": [],
   "source": [
    "def calcPi(limit):  # Generator function\n",
    "    \"\"\"\n",
    "    Prints out the digits of PI\n",
    "    until it reaches the given limit\n",
    "    \"\"\"\n",
    "\n",
    "    q, r, t, k, n, l = 1, 0, 1, 1, 3, 3\n",
    "\n",
    "    decimal = limit\n",
    "    counter = 0\n",
    "\n",
    "    while counter != decimal + 1:\n",
    "            if 4 * q + r - t < n * t:\n",
    "                    # yield digit\n",
    "                    yield n\n",
    "                    # insert period after first digit\n",
    "                    if counter == 0:\n",
    "                            yield '.'\n",
    "                    # end\n",
    "                    if decimal == counter:\n",
    "                            print('')\n",
    "                            break\n",
    "                    counter += 1\n",
    "                    nr = 10 * (r - n * t)\n",
    "                    n = ((10 * (3 * q + r)) // t) - 10 * n\n",
    "                    q *= 10\n",
    "                    r = nr\n",
    "            else:\n",
    "                    nr = (2 * q + r) * l\n",
    "                    nn = (q * (7 * k) + 2 + (r * l)) // (t * l)\n",
    "                    q *= k\n",
    "                    t *= l\n",
    "                    l += 2\n",
    "                    k += 1\n",
    "                    n = nn\n",
    "                    r = nr\n",
    "\n"
   ]
  },
  {
   "cell_type": "code",
   "execution_count": 2,
   "metadata": {},
   "outputs": [
    {
     "name": "stdout",
     "output_type": "stream",
     "text": [
      "Enter the number of decimals to calculate to: 56\n",
      "3.14159265358979323846264338327950288419\n",
      "716939937510582097\n"
     ]
    }
   ],
   "source": [
    "\n",
    "def main():  # Wrapper function\n",
    "\n",
    "    # Calls CalcPi with the given limit\n",
    "    pi_digits = calcPi(int(input(\n",
    "        \"Enter the number of decimals to calculate to: \")))\n",
    "\n",
    "    i = 0\n",
    "\n",
    "    # Prints the output of calcPi generator function\n",
    "    # Inserts a newline after every 40th number\n",
    "    for d in pi_digits:\n",
    "            print(d, end='')\n",
    "            i += 1\n",
    "            if i == 40:\n",
    "                print(\"\")\n",
    "                i = 0\n",
    "\n",
    "if __name__ == '__main__':\n",
    "    main()"
   ]
  },
  {
   "cell_type": "code",
   "execution_count": 4,
   "metadata": {},
   "outputs": [
    {
     "name": "stdout",
     "output_type": "stream",
     "text": [
      "3.142857142857143\n"
     ]
    }
   ],
   "source": [
    "print(round(22/7,20))"
   ]
  },
  {
   "cell_type": "code",
   "execution_count": 8,
   "metadata": {},
   "outputs": [
    {
     "name": "stdout",
     "output_type": "stream",
     "text": [
      "3.1428571428571427937015414499910548329353332519531\n"
     ]
    }
   ],
   "source": [
    "print (\"{0:.49f}\".format(22/7)) "
   ]
  },
  {
   "cell_type": "code",
   "execution_count": 12,
   "metadata": {},
   "outputs": [
    {
     "ename": "TypeError",
     "evalue": "only integer scalar arrays can be converted to a scalar index",
     "output_type": "error",
     "traceback": [
      "\u001b[1;31m---------------------------------------------------------------------------\u001b[0m",
      "\u001b[1;31mTypeError\u001b[0m                                 Traceback (most recent call last)",
      "\u001b[1;32m<ipython-input-12-10b578a4fcb1>\u001b[0m in \u001b[0;36m<module>\u001b[1;34m\u001b[0m\n\u001b[0;32m      3\u001b[0m \u001b[0mN\u001b[0m \u001b[1;33m=\u001b[0m \u001b[0mnp\u001b[0m\u001b[1;33m.\u001b[0m\u001b[0marange\u001b[0m\u001b[1;33m(\u001b[0m\u001b[1;36m1\u001b[0m\u001b[1;33m,\u001b[0m \u001b[1;36m11\u001b[0m\u001b[1;33m)\u001b[0m\u001b[1;33m\u001b[0m\u001b[1;33m\u001b[0m\u001b[0m\n\u001b[0;32m      4\u001b[0m \u001b[0mcounter\u001b[0m \u001b[1;33m=\u001b[0m \u001b[1;36m0\u001b[0m\u001b[1;33m\u001b[0m\u001b[1;33m\u001b[0m\u001b[0m\n\u001b[1;32m----> 5\u001b[1;33m \u001b[1;32mfor\u001b[0m \u001b[0mitem\u001b[0m \u001b[1;32min\u001b[0m \u001b[0mrandn\u001b[0m\u001b[1;33m(\u001b[0m\u001b[0mN\u001b[0m\u001b[1;33m)\u001b[0m\u001b[1;33m:\u001b[0m\u001b[1;33m\u001b[0m\u001b[1;33m\u001b[0m\u001b[0m\n\u001b[0m\u001b[0;32m      6\u001b[0m     \u001b[1;32mif\u001b[0m \u001b[1;33m(\u001b[0m\u001b[0mitem\u001b[0m \u001b[1;32min\u001b[0m \u001b[0mrange\u001b[0m\u001b[1;33m(\u001b[0m\u001b[1;33m-\u001b[0m\u001b[1;36m1\u001b[0m\u001b[1;33m,\u001b[0m \u001b[1;36m1\u001b[0m\u001b[1;33m)\u001b[0m\u001b[1;33m)\u001b[0m\u001b[1;33m:\u001b[0m\u001b[1;33m\u001b[0m\u001b[1;33m\u001b[0m\u001b[0m\n\u001b[0;32m      7\u001b[0m         \u001b[0mcounter\u001b[0m \u001b[1;33m+=\u001b[0m \u001b[0mcounter\u001b[0m\u001b[1;33m\u001b[0m\u001b[1;33m\u001b[0m\u001b[0m\n",
      "\u001b[1;32mmtrand.pyx\u001b[0m in \u001b[0;36mnumpy.random.mtrand.RandomState.randn\u001b[1;34m()\u001b[0m\n",
      "\u001b[1;32mmtrand.pyx\u001b[0m in \u001b[0;36mnumpy.random.mtrand.RandomState.standard_normal\u001b[1;34m()\u001b[0m\n",
      "\u001b[1;32m_common.pyx\u001b[0m in \u001b[0;36mnumpy.random._common.cont\u001b[1;34m()\u001b[0m\n",
      "\u001b[1;31mTypeError\u001b[0m: only integer scalar arrays can be converted to a scalar index"
     ]
    }
   ],
   "source": [
    "import numpy as np\n",
    "from numpy.random import randn\n",
    "N = np.arange(1, 11)\n",
    "counter = 0\n",
    "for item in randn(N):\n",
    "    if (item in range(-1, 1)):\n",
    "        counter += counter\n",
    "answer = counter/N\n",
    "print(answer)\n",
    "        "
   ]
  },
  {
   "cell_type": "code",
   "execution_count": null,
   "metadata": {},
   "outputs": [],
   "source": []
  }
 ],
 "metadata": {
  "kernelspec": {
   "display_name": "Python 3",
   "language": "python",
   "name": "python3"
  },
  "language_info": {
   "codemirror_mode": {
    "name": "ipython",
    "version": 3
   },
   "file_extension": ".py",
   "mimetype": "text/x-python",
   "name": "python",
   "nbconvert_exporter": "python",
   "pygments_lexer": "ipython3",
   "version": "3.7.6"
  }
 },
 "nbformat": 4,
 "nbformat_minor": 4
}
